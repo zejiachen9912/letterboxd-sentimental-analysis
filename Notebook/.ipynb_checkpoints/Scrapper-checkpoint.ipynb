{
 "cells": [
  {
   "cell_type": "code",
   "execution_count": 1,
   "metadata": {},
   "outputs": [],
   "source": [
    "# import requests and beautiful soup package\n",
    "from bs4 import BeautifulSoup\n",
    "import requests\n",
    "import pandas as pd\n",
    "import numpy as np"
   ]
  },
  {
   "cell_type": "code",
   "execution_count": 2,
   "metadata": {},
   "outputs": [],
   "source": [
    "# send request to letterboxd \n",
    "res = requests.get(\"https://letterboxd.com/film/inception/reviews/by/activity/page/1\")\n",
    "html_str = res.text\n",
    "#html_str"
   ]
  },
  {
   "cell_type": "code",
   "execution_count": 3,
   "metadata": {},
   "outputs": [],
   "source": [
    "# use bs to parse the heml file\n",
    "doc = BeautifulSoup(html_str, \"html.parser\")"
   ]
  },
  {
   "cell_type": "code",
   "execution_count": 4,
   "metadata": {},
   "outputs": [],
   "source": [
    "# scrape the film comments from the html\n",
    "test = doc.find(\"div\", attrs={\"class\": \"content-wrap\"})"
   ]
  },
  {
   "cell_type": "code",
   "execution_count": 5,
   "metadata": {},
   "outputs": [
    {
     "data": {
      "text/plain": [
       "<li class=\"film-detail\"> <a class=\"avatar -a40\" href=\"/bratpitt/\"> <img alt=\"BRAT\" height=\"40\" src=\"https://secure.gravatar.com/avatar/d31a4b9508ddd892eb3f904c6ce6bd2d?rating=PG&amp;size=80&amp;border=&amp;default=https%3A%2F%2Fs.ltrbxd.com%2Fstatic%2Fimg%2Favatar80.74798e0d.png\" width=\"40\"/> </a> <div class=\"film-detail-content\"> <div class=\"attribution-block\"> <p class=\"attribution\"> <span class=\"content-metadata\"> <span class=\"date\"> <a class=\"context\" href=\"/bratpitt/film/inception/\"> Watched by <strong class=\"name\">BRAT</strong> </a> <span class=\"_nobr\">26 Jun 2020</span> </span> <a class=\"has-icon icon-comment icon-16 comment-count\" href=\"/bratpitt/film/inception/\">56</a> </span> </p> </div> <div class=\"body-text -prose collapsible-text\" data-full-text-url=\"/s/full-text/viewing:111869068/\"> <p>finally watched inception the way christopher nolan intended for it to be seen: only the first 10 minutes and on the big screen in fortnite 😌</p> </div> <p class=\"like-link-target react-component -monotone\" data-component-class=\"globals.comps.LikeLinkComponent\" data-format=\"svg\" data-likeable=\"true\" data-likeable-name=\"review\" data-likeable-uid=\"viewing:111869068\" data-likes-page=\"/bratpitt/film/inception/likes/\" data-owner=\"bratpitt\"> <span class=\"svg-action -like\"></span> </p> </div> </li>"
      ]
     },
     "execution_count": 5,
     "metadata": {},
     "output_type": "execute_result"
    }
   ],
   "source": [
    "doc.find(\"li\", attrs = {\"class\": \"film-detail\"})"
   ]
  },
  {
   "cell_type": "code",
   "execution_count": 6,
   "metadata": {},
   "outputs": [],
   "source": [
    "comment_tag = doc.find_all(\"li\", attrs = {\"class\": \"film-detail\"})"
   ]
  },
  {
   "cell_type": "code",
   "execution_count": 7,
   "metadata": {},
   "outputs": [
    {
     "data": {
      "text/plain": [
       "[['Watched by',\n",
       "  'BRAT',\n",
       "  '26 Jun 2020',\n",
       "  '56',\n",
       "  'finally watched inception the way christopher nolan intended for it to be seen: only the first 10 minutes and on the big screen in fortnite 😌'],\n",
       " ['★★★★',\n",
       "  'Rewatched by',\n",
       "  'kirst',\n",
       "  '18 Feb 2018',\n",
       "  '11',\n",
       "  'fellas, is it gay to go inside\\xa0ur bros dreams?'],\n",
       " ['★★★★★',\n",
       "  'Rewatched by',\n",
       "  'Travis Lytle',\n",
       "  '08 Jul 2012',\n",
       "  '58',\n",
       "  '\"Inception,\" at its most basic, is two things. It is a heist film dressed in science fiction conventions; and it is a study of a man trying to free himself from a near-suffocating past. \"Inception,\" at its more complex, is a cerebral pop-masterpiece. It is an enthralling combination of thought-provoking, layered story-telling and sumptuous aesthetics enhanced by near-flawless editing, sound design, effects, and musical score. Driven by a pitch-perfect cast and the confident directorial hand of Christopher Nolan, \"Inception\" is a brilliant and unrivaled piece of filmmaking.'],\n",
       " ['★★★★★',\n",
       "  'Rewatched by',\n",
       "  'cathy',\n",
       "  '30 Apr 2017',\n",
       "  '1',\n",
       "  \"cillian murphy: no dad i'm giving up on YOUR dream!\"],\n",
       " ['★★★★½',\n",
       "  'Watched by',\n",
       "  'ksenija',\n",
       "  '31 May 2020',\n",
       "  '8',\n",
       "  \"christopher nolan spent years writing this movie's complex plot and really named the main character dom cobb\"]]"
      ]
     },
     "execution_count": 7,
     "metadata": {},
     "output_type": "execute_result"
    }
   ],
   "source": [
    "filmComment = []\n",
    "for tag in comment_tag:\n",
    "    l = list(tag.stripped_strings)\n",
    "    filmComment.append(l)\n",
    "\n",
    "filmComment[:5]"
   ]
  },
  {
   "cell_type": "code",
   "execution_count": 8,
   "metadata": {},
   "outputs": [],
   "source": [
    "user = []\n",
    "filmReviews = []\n",
    "\n",
    "for c in filmComment:\n",
    "    user.append(c[2])\n",
    "    filmReviews.append(c[-1]) "
   ]
  },
  {
   "cell_type": "code",
   "execution_count": 11,
   "metadata": {},
   "outputs": [],
   "source": [
    "rating = []\n",
    "filmReviews = []\n",
    "\n",
    "for c in filmComment:\n",
    "    rating.append(c[0])\n",
    "    filmReviews.append(c[-1])\n",
    "    "
   ]
  },
  {
   "cell_type": "code",
   "execution_count": 12,
   "metadata": {},
   "outputs": [
    {
     "data": {
      "text/plain": [
       "['Watched by',\n",
       " '★★★★',\n",
       " '★★★★★',\n",
       " '★★★★★',\n",
       " '★★★★½',\n",
       " '★★★★½',\n",
       " '★★★★★',\n",
       " '★★★★★',\n",
       " '★★★★★',\n",
       " '★★★★½',\n",
       " '★★★★★',\n",
       " '★★★★★']"
      ]
     },
     "execution_count": 12,
     "metadata": {},
     "output_type": "execute_result"
    }
   ],
   "source": [
    "rating"
   ]
  },
  {
   "cell_type": "code",
   "execution_count": 9,
   "metadata": {},
   "outputs": [],
   "source": [
    "data = {'Users': user, 'Comments': filmReviews} \n",
    "myData = pd.DataFrame(data)"
   ]
  },
  {
   "cell_type": "code",
   "execution_count": 10,
   "metadata": {},
   "outputs": [
    {
     "name": "stdout",
     "output_type": "stream",
     "text": [
      "                Users                                           Comments\n",
      "0         26 Jun 2020  finally watched inception the way christopher ...\n",
      "1               kirst     fellas, is it gay to go inside ur bros dreams?\n",
      "2        Travis Lytle  \"Inception,\" at its most basic, is two things....\n",
      "3               cathy  cillian murphy: no dad i'm giving up on YOUR d...\n",
      "4             ksenija  christopher nolan spent years writing this mov...\n",
      "5     Patrick Willems  Dom Cobb seems like he's never told a joke in ...\n",
      "6               dani✨                                            me: Gay\n",
      "7          David Chen  \"The most important emotional thing about the ...\n",
      "8                Lucy         just as i suspected, still a masterpiece 🥵\n",
      "9            niceguys  how is joseph gordon-levitt? is he okay? where...\n",
      "10  hunter strawberry           WHEN WE ALL FALL ASLEEP, WHERE DO WE GO?\n",
      "11              ciara                          me: I LOVE THIS SONG!!!!!\n"
     ]
    }
   ],
   "source": [
    "print(myData)"
   ]
  },
  {
   "cell_type": "markdown",
   "metadata": {},
   "source": [
    "---"
   ]
  },
  {
   "cell_type": "markdown",
   "metadata": {},
   "source": [
    "## Automating..."
   ]
  },
  {
   "cell_type": "code",
   "execution_count": 14,
   "metadata": {},
   "outputs": [],
   "source": [
    "# to get rid of non-Eng comments & comments with emojis\n",
    "def isEnglish(s):\n",
    "  return s.isascii()"
   ]
  },
  {
   "cell_type": "code",
   "execution_count": 15,
   "metadata": {},
   "outputs": [],
   "source": [
    "filmList = ['inception', 'the-dark-knight', 'interstellar', 'dunkirk-2017', 'tenet', 'memento', 'following', 'the-prestige', 'insomnia-2002']\n",
    "\n"
   ]
  },
  {
   "cell_type": "code",
   "execution_count": 20,
   "metadata": {},
   "outputs": [
    {
     "name": "stdout",
     "output_type": "stream",
     "text": [
      "There are 389 film reviews in inception\n",
      "There are 392 film reviews in the-dark-knight\n",
      "There are 336 film reviews in interstellar\n",
      "There are 344 film reviews in dunkirk-2017\n",
      "There are 285 film reviews in tenet\n",
      "There are 408 film reviews in memento\n",
      "There are 439 film reviews in following\n",
      "There are 394 film reviews in the-prestige\n",
      "There are 381 film reviews in insomnia-2002\n"
     ]
    }
   ],
   "source": [
    "# scrapping...\n",
    "for i in filmList:\n",
    "    # initilize a list for each film's reviews\n",
    "    filmReviews = []\n",
    "    filmRatings = []\n",
    "    \n",
    "    for j in range(1, 70):      \n",
    "        # scrapping the data\n",
    "        page = i\n",
    "        #print('scrapping: ' + i + ', page ' + str(j))\n",
    "        letterboxd_url = f'https://letterboxd.com/film/{i}/reviews/by/activity/page/{j}/'\n",
    "        res = requests.get(letterboxd_url)\n",
    "        html_str = res.text\n",
    "        doc = BeautifulSoup(html_str, \"html.parser\")\n",
    "        comment_tags = doc.find_all(\"li\", attrs = {\"class\": \"film-detail\"})\n",
    "\n",
    "        for tag in comment_tags:\n",
    "            l = list(tag.stripped_strings)\n",
    "            if isEnglish(l[-1]):\n",
    "                filmReviews.append(l[-1])\n",
    "                filmRatings.append(l[0])\n",
    "            else:\n",
    "                continue\n",
    "                \n",
    "    print('There are ' + str(len(filmReviews)) + ' film reviews in ' + i)\n",
    "    # store the review to a dataframe       \n",
    "    data = {'Rating': filmRatings,'Comments': filmReviews} \n",
    "    myData = pd.DataFrame(data)\n",
    "\n",
    "    # write the dataframe to csv file\n",
    "    path = \"/Users/zejiachen/Desktop/fall 2021/QTM 340/Final Project/dataRating/\" + i + \".csv\"\n",
    "    myData.to_csv(path, encoding='utf-8')"
   ]
  },
  {
   "cell_type": "code",
   "execution_count": 44,
   "metadata": {},
   "outputs": [
    {
     "name": "stdout",
     "output_type": "stream",
     "text": [
      "60\n"
     ]
    }
   ],
   "source": [
    "user[:10]\n",
    "print(len(user))"
   ]
  },
  {
   "cell_type": "code",
   "execution_count": 45,
   "metadata": {},
   "outputs": [
    {
     "name": "stdout",
     "output_type": "stream",
     "text": [
      "60\n"
     ]
    }
   ],
   "source": [
    "filmReviews[:10]\n",
    "print(len(filmReviews))"
   ]
  },
  {
   "cell_type": "code",
   "execution_count": 46,
   "metadata": {},
   "outputs": [],
   "source": [
    "data = {'Users': user, 'Comments': filmReviews} \n",
    "myData = pd.DataFrame(data)"
   ]
  },
  {
   "cell_type": "code",
   "execution_count": 47,
   "metadata": {},
   "outputs": [
    {
     "data": {
      "text/html": [
       "<div>\n",
       "<style scoped>\n",
       "    .dataframe tbody tr th:only-of-type {\n",
       "        vertical-align: middle;\n",
       "    }\n",
       "\n",
       "    .dataframe tbody tr th {\n",
       "        vertical-align: top;\n",
       "    }\n",
       "\n",
       "    .dataframe thead th {\n",
       "        text-align: right;\n",
       "    }\n",
       "</style>\n",
       "<table border=\"1\" class=\"dataframe\">\n",
       "  <thead>\n",
       "    <tr style=\"text-align: right;\">\n",
       "      <th></th>\n",
       "      <th>Users</th>\n",
       "      <th>Comments</th>\n",
       "    </tr>\n",
       "  </thead>\n",
       "  <tbody>\n",
       "    <tr>\n",
       "      <th>0</th>\n",
       "      <td>Travis Lytle</td>\n",
       "      <td>\"Inception,\" at its most basic, is two things....</td>\n",
       "    </tr>\n",
       "    <tr>\n",
       "      <th>1</th>\n",
       "      <td>cathy</td>\n",
       "      <td>cillian murphy: no dad i'm giving up on YOUR d...</td>\n",
       "    </tr>\n",
       "    <tr>\n",
       "      <th>2</th>\n",
       "      <td>ksenija</td>\n",
       "      <td>christopher nolan spent years writing this mov...</td>\n",
       "    </tr>\n",
       "    <tr>\n",
       "      <th>3</th>\n",
       "      <td>Patrick Willems</td>\n",
       "      <td>Dom Cobb seems like he's never told a joke in ...</td>\n",
       "    </tr>\n",
       "    <tr>\n",
       "      <th>4</th>\n",
       "      <td>dani✨</td>\n",
       "      <td>me: Gay</td>\n",
       "    </tr>\n",
       "    <tr>\n",
       "      <th>5</th>\n",
       "      <td>David Chen</td>\n",
       "      <td>\"The most important emotional thing about the ...</td>\n",
       "    </tr>\n",
       "    <tr>\n",
       "      <th>6</th>\n",
       "      <td>niceguys</td>\n",
       "      <td>how is joseph gordon-levitt? is he okay? where...</td>\n",
       "    </tr>\n",
       "    <tr>\n",
       "      <th>7</th>\n",
       "      <td>hunter strawberry</td>\n",
       "      <td>WHEN WE ALL FALL ASLEEP, WHERE DO WE GO?</td>\n",
       "    </tr>\n",
       "    <tr>\n",
       "      <th>8</th>\n",
       "      <td>ciara</td>\n",
       "      <td>me: I LOVE THIS SONG!!!!!</td>\n",
       "    </tr>\n",
       "    <tr>\n",
       "      <th>9</th>\n",
       "      <td>Jay</td>\n",
       "      <td>living in your head rent free</td>\n",
       "    </tr>\n",
       "  </tbody>\n",
       "</table>\n",
       "</div>"
      ],
      "text/plain": [
       "               Users                                           Comments\n",
       "0       Travis Lytle  \"Inception,\" at its most basic, is two things....\n",
       "1              cathy  cillian murphy: no dad i'm giving up on YOUR d...\n",
       "2            ksenija  christopher nolan spent years writing this mov...\n",
       "3    Patrick Willems  Dom Cobb seems like he's never told a joke in ...\n",
       "4              dani✨                                            me: Gay\n",
       "5         David Chen  \"The most important emotional thing about the ...\n",
       "6           niceguys  how is joseph gordon-levitt? is he okay? where...\n",
       "7  hunter strawberry           WHEN WE ALL FALL ASLEEP, WHERE DO WE GO?\n",
       "8              ciara                          me: I LOVE THIS SONG!!!!!\n",
       "9                Jay                      living in your head rent free"
      ]
     },
     "execution_count": 47,
     "metadata": {},
     "output_type": "execute_result"
    }
   ],
   "source": [
    "myData[:10]"
   ]
  },
  {
   "cell_type": "code",
   "execution_count": 42,
   "metadata": {},
   "outputs": [],
   "source": [
    "myData.to_csv('Inception.csv', encoding='utf-8')"
   ]
  }
 ],
 "metadata": {
  "kernelspec": {
   "display_name": "Python 3",
   "language": "python",
   "name": "python3"
  },
  "language_info": {
   "codemirror_mode": {
    "name": "ipython",
    "version": 3
   },
   "file_extension": ".py",
   "mimetype": "text/x-python",
   "name": "python",
   "nbconvert_exporter": "python",
   "pygments_lexer": "ipython3",
   "version": "3.8.5"
  }
 },
 "nbformat": 4,
 "nbformat_minor": 4
}
