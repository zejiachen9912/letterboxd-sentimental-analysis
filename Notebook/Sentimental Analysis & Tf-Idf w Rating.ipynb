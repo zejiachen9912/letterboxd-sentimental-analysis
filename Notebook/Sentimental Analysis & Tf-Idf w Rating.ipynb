{
 "cells": [
  {
   "cell_type": "code",
   "execution_count": 1,
   "metadata": {},
   "outputs": [
    {
     "name": "stderr",
     "output_type": "stream",
     "text": [
      "[nltk_data] Downloading package vader_lexicon to\n",
      "[nltk_data]     /Users/zejiachen/nltk_data...\n",
      "[nltk_data]   Package vader_lexicon is already up-to-date!\n"
     ]
    }
   ],
   "source": [
    "# import the package\n",
    "import nltk\n",
    "import pandas as pd\n",
    "nltk.download('vader_lexicon')\n",
    "from nltk.sentiment.vader import SentimentIntensityAnalyzer\n",
    "import os\n",
    "sid = SentimentIntensityAnalyzer()"
   ]
  },
  {
   "cell_type": "code",
   "execution_count": 11,
   "metadata": {},
   "outputs": [
    {
     "data": {
      "text/plain": [
       "'.DS_Store'"
      ]
     },
     "execution_count": 11,
     "metadata": {},
     "output_type": "execute_result"
    }
   ],
   "source": [
    "base_dir = \"/Users/zejiachen/Desktop/fall 2021/QTM 340/Final Project/DataForAnalysis/\"\n",
    "# get a list of all the files in the directory\n",
    "docs = os.listdir(base_dir)\n",
    "docs.pop(1)"
   ]
  },
  {
   "cell_type": "code",
   "execution_count": 12,
   "metadata": {},
   "outputs": [
    {
     "data": {
      "text/plain": [
       "['interstellar',\n",
       " 'inception',\n",
       " 'tenet',\n",
       " 'memento',\n",
       " 'the-prestige',\n",
       " 'the-dark-knight',\n",
       " 'dunkirk-2017',\n",
       " 'following',\n",
       " 'insomnia-2002']"
      ]
     },
     "execution_count": 12,
     "metadata": {},
     "output_type": "execute_result"
    }
   ],
   "source": [
    "# getting the file name\n",
    "filmName = [os.path.splitext(os.path.basename(x))[0] for x in docs]\n",
    "filmName"
   ]
  },
  {
   "cell_type": "code",
   "execution_count": 13,
   "metadata": {},
   "outputs": [],
   "source": [
    "# read all the .csv file to dataframe\n",
    "films = {}\n",
    "for i in range(len(filmName)):\n",
    "        films[filmName[i]] = pd.read_csv('/Users/zejiachen/Desktop/fall 2021/QTM 340/Final Project/DataForAnalysis/' + docs[i])\n",
    "        "
   ]
  },
  {
   "cell_type": "code",
   "execution_count": 14,
   "metadata": {},
   "outputs": [
    {
     "name": "stdout",
     "output_type": "stream",
     "text": [
      "interstellar\n"
     ]
    },
    {
     "data": {
      "text/html": [
       "<div>\n",
       "<style scoped>\n",
       "    .dataframe tbody tr th:only-of-type {\n",
       "        vertical-align: middle;\n",
       "    }\n",
       "\n",
       "    .dataframe tbody tr th {\n",
       "        vertical-align: top;\n",
       "    }\n",
       "\n",
       "    .dataframe thead th {\n",
       "        text-align: right;\n",
       "    }\n",
       "</style>\n",
       "<table border=\"1\" class=\"dataframe\">\n",
       "  <thead>\n",
       "    <tr style=\"text-align: center;\">\n",
       "      <th></th>\n",
       "      <th>Unnamed: 0</th>\n",
       "      <th>Rating</th>\n",
       "      <th>Comments</th>\n",
       "      <th>overall</th>\n",
       "      <th>negative</th>\n",
       "      <th>neutral</th>\n",
       "      <th>positive</th>\n",
       "      <th>compound</th>\n",
       "    </tr>\n",
       "  </thead>\n",
       "  <tbody>\n",
       "    <tr>\n",
       "      <th>0</th>\n",
       "      <td>0</td>\n",
       "      <td>★★★★★</td>\n",
       "      <td>I have a headache, but it's the best headache ...</td>\n",
       "      <td>5.0</td>\n",
       "      <td>0.000</td>\n",
       "      <td>0.608</td>\n",
       "      <td>0.392</td>\n",
       "      <td>0.778</td>\n",
       "    </tr>\n",
       "    <tr>\n",
       "      <th>1</th>\n",
       "      <td>1</td>\n",
       "      <td>★★★★★</td>\n",
       "      <td>tell me you wouldn't cry too if your son grows...</td>\n",
       "      <td>5.0</td>\n",
       "      <td>0.000</td>\n",
       "      <td>0.846</td>\n",
       "      <td>0.154</td>\n",
       "      <td>0.372</td>\n",
       "    </tr>\n",
       "    <tr>\n",
       "      <th>2</th>\n",
       "      <td>2</td>\n",
       "      <td>★★★★★</td>\n",
       "      <td>I'm pretty sure no one will EVER come close to...</td>\n",
       "      <td>5.0</td>\n",
       "      <td>0.178</td>\n",
       "      <td>0.594</td>\n",
       "      <td>0.227</td>\n",
       "      <td>0.226</td>\n",
       "    </tr>\n",
       "  </tbody>\n",
       "</table>\n",
       "</div>"
      ],
      "text/plain": [
       "   Unnamed: 0 Rating                      Comments                       overall  negative  neutral  positive  compound\n",
       "0       0      ★★★★★  I have a headache, but it's the best headache ...    5.0      0.000    0.608     0.392     0.778 \n",
       "1       1      ★★★★★  tell me you wouldn't cry too if your son grows...    5.0      0.000    0.846     0.154     0.372 \n",
       "2       2      ★★★★★  I'm pretty sure no one will EVER come close to...    5.0      0.178    0.594     0.227     0.226 "
      ]
     },
     "metadata": {},
     "output_type": "display_data"
    },
    {
     "name": "stdout",
     "output_type": "stream",
     "text": [
      "inception\n"
     ]
    },
    {
     "data": {
      "text/html": [
       "<div>\n",
       "<style scoped>\n",
       "    .dataframe tbody tr th:only-of-type {\n",
       "        vertical-align: middle;\n",
       "    }\n",
       "\n",
       "    .dataframe tbody tr th {\n",
       "        vertical-align: top;\n",
       "    }\n",
       "\n",
       "    .dataframe thead th {\n",
       "        text-align: right;\n",
       "    }\n",
       "</style>\n",
       "<table border=\"1\" class=\"dataframe\">\n",
       "  <thead>\n",
       "    <tr style=\"text-align: center;\">\n",
       "      <th></th>\n",
       "      <th>Unnamed: 0</th>\n",
       "      <th>Rating</th>\n",
       "      <th>Comments</th>\n",
       "      <th>overall</th>\n",
       "      <th>negative</th>\n",
       "      <th>neutral</th>\n",
       "      <th>positive</th>\n",
       "      <th>compound</th>\n",
       "    </tr>\n",
       "  </thead>\n",
       "  <tbody>\n",
       "    <tr>\n",
       "      <th>0</th>\n",
       "      <td>0</td>\n",
       "      <td>★★★★★</td>\n",
       "      <td>\"Inception,\" at its most basic, is two things....</td>\n",
       "      <td>5.0</td>\n",
       "      <td>0.000</td>\n",
       "      <td>0.849</td>\n",
       "      <td>0.151</td>\n",
       "      <td>0.926</td>\n",
       "    </tr>\n",
       "    <tr>\n",
       "      <th>1</th>\n",
       "      <td>1</td>\n",
       "      <td>★★★★★</td>\n",
       "      <td>cillian murphy: no dad i'm giving up on YOUR d...</td>\n",
       "      <td>5.0</td>\n",
       "      <td>0.158</td>\n",
       "      <td>0.504</td>\n",
       "      <td>0.338</td>\n",
       "      <td>0.359</td>\n",
       "    </tr>\n",
       "    <tr>\n",
       "      <th>2</th>\n",
       "      <td>2</td>\n",
       "      <td>★★★★½</td>\n",
       "      <td>christopher nolan spent years writing this mov...</td>\n",
       "      <td>4.5</td>\n",
       "      <td>0.000</td>\n",
       "      <td>1.000</td>\n",
       "      <td>0.000</td>\n",
       "      <td>0.000</td>\n",
       "    </tr>\n",
       "  </tbody>\n",
       "</table>\n",
       "</div>"
      ],
      "text/plain": [
       "   Unnamed: 0 Rating                      Comments                       overall  negative  neutral  positive  compound\n",
       "0       0      ★★★★★  \"Inception,\" at its most basic, is two things....    5.0      0.000    0.849     0.151     0.926 \n",
       "1       1      ★★★★★  cillian murphy: no dad i'm giving up on YOUR d...    5.0      0.158    0.504     0.338     0.359 \n",
       "2       2      ★★★★½  christopher nolan spent years writing this mov...    4.5      0.000    1.000     0.000     0.000 "
      ]
     },
     "metadata": {},
     "output_type": "display_data"
    },
    {
     "name": "stdout",
     "output_type": "stream",
     "text": [
      "tenet\n"
     ]
    },
    {
     "data": {
      "text/html": [
       "<div>\n",
       "<style scoped>\n",
       "    .dataframe tbody tr th:only-of-type {\n",
       "        vertical-align: middle;\n",
       "    }\n",
       "\n",
       "    .dataframe tbody tr th {\n",
       "        vertical-align: top;\n",
       "    }\n",
       "\n",
       "    .dataframe thead th {\n",
       "        text-align: right;\n",
       "    }\n",
       "</style>\n",
       "<table border=\"1\" class=\"dataframe\">\n",
       "  <thead>\n",
       "    <tr style=\"text-align: center;\">\n",
       "      <th></th>\n",
       "      <th>Unnamed: 0</th>\n",
       "      <th>Rating</th>\n",
       "      <th>Comments</th>\n",
       "      <th>overall</th>\n",
       "      <th>negative</th>\n",
       "      <th>neutral</th>\n",
       "      <th>positive</th>\n",
       "      <th>compound</th>\n",
       "    </tr>\n",
       "  </thead>\n",
       "  <tbody>\n",
       "    <tr>\n",
       "      <th>0</th>\n",
       "      <td>0</td>\n",
       "      <td>★★½</td>\n",
       "      <td>thank you for watching</td>\n",
       "      <td>2.5</td>\n",
       "      <td>0.000</td>\n",
       "      <td>0.545</td>\n",
       "      <td>0.455</td>\n",
       "      <td>0.361</td>\n",
       "    </tr>\n",
       "    <tr>\n",
       "      <th>1</th>\n",
       "      <td>1</td>\n",
       "      <td>★</td>\n",
       "      <td>Half the dialogue is exposition. The soundtrac...</td>\n",
       "      <td>1.0</td>\n",
       "      <td>0.079</td>\n",
       "      <td>0.921</td>\n",
       "      <td>0.000</td>\n",
       "      <td>-0.226</td>\n",
       "    </tr>\n",
       "    <tr>\n",
       "      <th>2</th>\n",
       "      <td>2</td>\n",
       "      <td>½</td>\n",
       "      <td>nolan so scared to flop he designed a movie yo...</td>\n",
       "      <td>0.0</td>\n",
       "      <td>0.347</td>\n",
       "      <td>0.653</td>\n",
       "      <td>0.000</td>\n",
       "      <td>-0.706</td>\n",
       "    </tr>\n",
       "  </tbody>\n",
       "</table>\n",
       "</div>"
      ],
      "text/plain": [
       "   Unnamed: 0 Rating                      Comments                       overall  negative  neutral  positive  compound\n",
       "0       0       ★★½                              thank you for watching    2.5      0.000    0.545     0.455     0.361 \n",
       "1       1         ★   Half the dialogue is exposition. The soundtrac...    1.0      0.079    0.921     0.000    -0.226 \n",
       "2       2         ½   nolan so scared to flop he designed a movie yo...    0.0      0.347    0.653     0.000    -0.706 "
      ]
     },
     "metadata": {},
     "output_type": "display_data"
    },
    {
     "name": "stdout",
     "output_type": "stream",
     "text": [
      "memento\n"
     ]
    },
    {
     "data": {
      "text/html": [
       "<div>\n",
       "<style scoped>\n",
       "    .dataframe tbody tr th:only-of-type {\n",
       "        vertical-align: middle;\n",
       "    }\n",
       "\n",
       "    .dataframe tbody tr th {\n",
       "        vertical-align: top;\n",
       "    }\n",
       "\n",
       "    .dataframe thead th {\n",
       "        text-align: right;\n",
       "    }\n",
       "</style>\n",
       "<table border=\"1\" class=\"dataframe\">\n",
       "  <thead>\n",
       "    <tr style=\"text-align: center;\">\n",
       "      <th></th>\n",
       "      <th>Unnamed: 0</th>\n",
       "      <th>Rating</th>\n",
       "      <th>Comments</th>\n",
       "      <th>overall</th>\n",
       "      <th>negative</th>\n",
       "      <th>neutral</th>\n",
       "      <th>positive</th>\n",
       "      <th>compound</th>\n",
       "    </tr>\n",
       "  </thead>\n",
       "  <tbody>\n",
       "    <tr>\n",
       "      <th>0</th>\n",
       "      <td>0</td>\n",
       "      <td>★★★★½</td>\n",
       "      <td>this is what finding dory should have been</td>\n",
       "      <td>4.5</td>\n",
       "      <td>0.000</td>\n",
       "      <td>1.000</td>\n",
       "      <td>0.000</td>\n",
       "      <td>0.000</td>\n",
       "    </tr>\n",
       "    <tr>\n",
       "      <th>1</th>\n",
       "      <td>1</td>\n",
       "      <td>★★★★</td>\n",
       "      <td>i love not knowing what the fuck is going on</td>\n",
       "      <td>4.0</td>\n",
       "      <td>0.238</td>\n",
       "      <td>0.476</td>\n",
       "      <td>0.286</td>\n",
       "      <td>0.178</td>\n",
       "    </tr>\n",
       "    <tr>\n",
       "      <th>2</th>\n",
       "      <td>2</td>\n",
       "      <td>★★★★</td>\n",
       "      <td>me: [giving him the finger] test this, you fuc...</td>\n",
       "      <td>4.0</td>\n",
       "      <td>0.000</td>\n",
       "      <td>1.000</td>\n",
       "      <td>0.000</td>\n",
       "      <td>0.000</td>\n",
       "    </tr>\n",
       "  </tbody>\n",
       "</table>\n",
       "</div>"
      ],
      "text/plain": [
       "   Unnamed: 0 Rating                      Comments                       overall  negative  neutral  positive  compound\n",
       "0       0      ★★★★½         this is what finding dory should have been    4.5      0.000    1.000     0.000     0.000 \n",
       "1       1       ★★★★       i love not knowing what the fuck is going on    4.0      0.238    0.476     0.286     0.178 \n",
       "2       2       ★★★★  me: [giving him the finger] test this, you fuc...    4.0      0.000    1.000     0.000     0.000 "
      ]
     },
     "metadata": {},
     "output_type": "display_data"
    },
    {
     "name": "stdout",
     "output_type": "stream",
     "text": [
      "the-prestige\n"
     ]
    },
    {
     "data": {
      "text/html": [
       "<div>\n",
       "<style scoped>\n",
       "    .dataframe tbody tr th:only-of-type {\n",
       "        vertical-align: middle;\n",
       "    }\n",
       "\n",
       "    .dataframe tbody tr th {\n",
       "        vertical-align: top;\n",
       "    }\n",
       "\n",
       "    .dataframe thead th {\n",
       "        text-align: right;\n",
       "    }\n",
       "</style>\n",
       "<table border=\"1\" class=\"dataframe\">\n",
       "  <thead>\n",
       "    <tr style=\"text-align: center;\">\n",
       "      <th></th>\n",
       "      <th>Unnamed: 0</th>\n",
       "      <th>Rating</th>\n",
       "      <th>Comments</th>\n",
       "      <th>overall</th>\n",
       "      <th>negative</th>\n",
       "      <th>neutral</th>\n",
       "      <th>positive</th>\n",
       "      <th>compound</th>\n",
       "    </tr>\n",
       "  </thead>\n",
       "  <tbody>\n",
       "    <tr>\n",
       "      <th>0</th>\n",
       "      <td>0</td>\n",
       "      <td>★★★★½</td>\n",
       "      <td>Sometimes you just gotta ruin your life to own...</td>\n",
       "      <td>4.5</td>\n",
       "      <td>0.321</td>\n",
       "      <td>0.679</td>\n",
       "      <td>0.0</td>\n",
       "      <td>-0.688</td>\n",
       "    </tr>\n",
       "    <tr>\n",
       "      <th>1</th>\n",
       "      <td>1</td>\n",
       "      <td>★★★★</td>\n",
       "      <td>when the prank war just goes too damn far :(</td>\n",
       "      <td>4.0</td>\n",
       "      <td>0.576</td>\n",
       "      <td>0.424</td>\n",
       "      <td>0.0</td>\n",
       "      <td>-0.859</td>\n",
       "    </tr>\n",
       "    <tr>\n",
       "      <th>2</th>\n",
       "      <td>2</td>\n",
       "      <td>★★★★½</td>\n",
       "      <td>Second unexpected Radiohead in the credits mom...</td>\n",
       "      <td>4.5</td>\n",
       "      <td>0.000</td>\n",
       "      <td>0.800</td>\n",
       "      <td>0.2</td>\n",
       "      <td>0.361</td>\n",
       "    </tr>\n",
       "  </tbody>\n",
       "</table>\n",
       "</div>"
      ],
      "text/plain": [
       "   Unnamed: 0 Rating                      Comments                       overall  negative  neutral  positive  compound\n",
       "0       0      ★★★★½  Sometimes you just gotta ruin your life to own...    4.5      0.321    0.679      0.0     -0.688 \n",
       "1       1       ★★★★       when the prank war just goes too damn far :(    4.0      0.576    0.424      0.0     -0.859 \n",
       "2       2      ★★★★½  Second unexpected Radiohead in the credits mom...    4.5      0.000    0.800      0.2      0.361 "
      ]
     },
     "metadata": {},
     "output_type": "display_data"
    },
    {
     "name": "stdout",
     "output_type": "stream",
     "text": [
      "the-dark-knight\n"
     ]
    },
    {
     "data": {
      "text/html": [
       "<div>\n",
       "<style scoped>\n",
       "    .dataframe tbody tr th:only-of-type {\n",
       "        vertical-align: middle;\n",
       "    }\n",
       "\n",
       "    .dataframe tbody tr th {\n",
       "        vertical-align: top;\n",
       "    }\n",
       "\n",
       "    .dataframe thead th {\n",
       "        text-align: right;\n",
       "    }\n",
       "</style>\n",
       "<table border=\"1\" class=\"dataframe\">\n",
       "  <thead>\n",
       "    <tr style=\"text-align: center;\">\n",
       "      <th></th>\n",
       "      <th>Unnamed: 0</th>\n",
       "      <th>Rating</th>\n",
       "      <th>Comments</th>\n",
       "      <th>overall</th>\n",
       "      <th>negative</th>\n",
       "      <th>neutral</th>\n",
       "      <th>positive</th>\n",
       "      <th>compound</th>\n",
       "    </tr>\n",
       "  </thead>\n",
       "  <tbody>\n",
       "    <tr>\n",
       "      <th>0</th>\n",
       "      <td>0</td>\n",
       "      <td>★★★★★</td>\n",
       "      <td>If you do not like this movie, I do not like you.</td>\n",
       "      <td>5.0</td>\n",
       "      <td>0.319</td>\n",
       "      <td>0.681</td>\n",
       "      <td>0.000</td>\n",
       "      <td>-0.497</td>\n",
       "    </tr>\n",
       "    <tr>\n",
       "      <th>1</th>\n",
       "      <td>1</td>\n",
       "      <td>★★★★★</td>\n",
       "      <td>the best superhero movie ever made. period</td>\n",
       "      <td>5.0</td>\n",
       "      <td>0.000</td>\n",
       "      <td>0.588</td>\n",
       "      <td>0.412</td>\n",
       "      <td>0.637</td>\n",
       "    </tr>\n",
       "    <tr>\n",
       "      <th>2</th>\n",
       "      <td>2</td>\n",
       "      <td>★★★★★</td>\n",
       "      <td>has no right to still be this good</td>\n",
       "      <td>5.0</td>\n",
       "      <td>0.190</td>\n",
       "      <td>0.518</td>\n",
       "      <td>0.292</td>\n",
       "      <td>0.290</td>\n",
       "    </tr>\n",
       "  </tbody>\n",
       "</table>\n",
       "</div>"
      ],
      "text/plain": [
       "   Unnamed: 0 Rating                      Comments                       overall  negative  neutral  positive  compound\n",
       "0       0      ★★★★★  If you do not like this movie, I do not like you.    5.0      0.319    0.681     0.000    -0.497 \n",
       "1       1      ★★★★★         the best superhero movie ever made. period    5.0      0.000    0.588     0.412     0.637 \n",
       "2       2      ★★★★★                 has no right to still be this good    5.0      0.190    0.518     0.292     0.290 "
      ]
     },
     "metadata": {},
     "output_type": "display_data"
    },
    {
     "name": "stdout",
     "output_type": "stream",
     "text": [
      "dunkirk-2017\n"
     ]
    },
    {
     "data": {
      "text/html": [
       "<div>\n",
       "<style scoped>\n",
       "    .dataframe tbody tr th:only-of-type {\n",
       "        vertical-align: middle;\n",
       "    }\n",
       "\n",
       "    .dataframe tbody tr th {\n",
       "        vertical-align: top;\n",
       "    }\n",
       "\n",
       "    .dataframe thead th {\n",
       "        text-align: right;\n",
       "    }\n",
       "</style>\n",
       "<table border=\"1\" class=\"dataframe\">\n",
       "  <thead>\n",
       "    <tr style=\"text-align: center;\">\n",
       "      <th></th>\n",
       "      <th>Unnamed: 0</th>\n",
       "      <th>Rating</th>\n",
       "      <th>Comments</th>\n",
       "      <th>overall</th>\n",
       "      <th>negative</th>\n",
       "      <th>neutral</th>\n",
       "      <th>positive</th>\n",
       "      <th>compound</th>\n",
       "    </tr>\n",
       "  </thead>\n",
       "  <tbody>\n",
       "    <tr>\n",
       "      <th>0</th>\n",
       "      <td>0</td>\n",
       "      <td>★★★★</td>\n",
       "      <td>hans zimmer: TICK TOCK MOTHERFUCKER</td>\n",
       "      <td>4.0</td>\n",
       "      <td>0.571</td>\n",
       "      <td>0.429</td>\n",
       "      <td>0.000</td>\n",
       "      <td>-0.746</td>\n",
       "    </tr>\n",
       "    <tr>\n",
       "      <th>1</th>\n",
       "      <td>1</td>\n",
       "      <td>★★★</td>\n",
       "      <td>so thank you, harry styles.</td>\n",
       "      <td>3.0</td>\n",
       "      <td>0.000</td>\n",
       "      <td>0.589</td>\n",
       "      <td>0.411</td>\n",
       "      <td>0.420</td>\n",
       "    </tr>\n",
       "    <tr>\n",
       "      <th>2</th>\n",
       "      <td>2</td>\n",
       "      <td>★★★</td>\n",
       "      <td>chris nolan: actually can I have 100 more of t...</td>\n",
       "      <td>3.0</td>\n",
       "      <td>0.000</td>\n",
       "      <td>1.000</td>\n",
       "      <td>0.000</td>\n",
       "      <td>0.000</td>\n",
       "    </tr>\n",
       "  </tbody>\n",
       "</table>\n",
       "</div>"
      ],
      "text/plain": [
       "   Unnamed: 0 Rating                      Comments                       overall  negative  neutral  positive  compound\n",
       "0       0      ★★★★                 hans zimmer: TICK TOCK MOTHERFUCKER    4.0      0.571    0.429     0.000    -0.746 \n",
       "1       1       ★★★                         so thank you, harry styles.    3.0      0.000    0.589     0.411     0.420 \n",
       "2       2       ★★★   chris nolan: actually can I have 100 more of t...    3.0      0.000    1.000     0.000     0.000 "
      ]
     },
     "metadata": {},
     "output_type": "display_data"
    },
    {
     "name": "stdout",
     "output_type": "stream",
     "text": [
      "following\n"
     ]
    },
    {
     "data": {
      "text/html": [
       "<div>\n",
       "<style scoped>\n",
       "    .dataframe tbody tr th:only-of-type {\n",
       "        vertical-align: middle;\n",
       "    }\n",
       "\n",
       "    .dataframe tbody tr th {\n",
       "        vertical-align: top;\n",
       "    }\n",
       "\n",
       "    .dataframe thead th {\n",
       "        text-align: right;\n",
       "    }\n",
       "</style>\n",
       "<table border=\"1\" class=\"dataframe\">\n",
       "  <thead>\n",
       "    <tr style=\"text-align: center;\">\n",
       "      <th></th>\n",
       "      <th>Unnamed: 0</th>\n",
       "      <th>Rating</th>\n",
       "      <th>Comments</th>\n",
       "      <th>overall</th>\n",
       "      <th>negative</th>\n",
       "      <th>neutral</th>\n",
       "      <th>positive</th>\n",
       "      <th>compound</th>\n",
       "    </tr>\n",
       "  </thead>\n",
       "  <tbody>\n",
       "    <tr>\n",
       "      <th>0</th>\n",
       "      <td>0</td>\n",
       "      <td>★★★</td>\n",
       "      <td>A Christopher Nolan movie where people swear a...</td>\n",
       "      <td>3.0</td>\n",
       "      <td>0.291</td>\n",
       "      <td>0.709</td>\n",
       "      <td>0.0</td>\n",
       "      <td>-0.477</td>\n",
       "    </tr>\n",
       "    <tr>\n",
       "      <th>1</th>\n",
       "      <td>1</td>\n",
       "      <td>★★★</td>\n",
       "      <td>following on yt</td>\n",
       "      <td>3.0</td>\n",
       "      <td>0.000</td>\n",
       "      <td>1.000</td>\n",
       "      <td>0.0</td>\n",
       "      <td>0.000</td>\n",
       "    </tr>\n",
       "    <tr>\n",
       "      <th>2</th>\n",
       "      <td>2</td>\n",
       "      <td>★★★</td>\n",
       "      <td>Christopher Nolan Ranked</td>\n",
       "      <td>3.0</td>\n",
       "      <td>0.000</td>\n",
       "      <td>1.000</td>\n",
       "      <td>0.0</td>\n",
       "      <td>0.000</td>\n",
       "    </tr>\n",
       "  </tbody>\n",
       "</table>\n",
       "</div>"
      ],
      "text/plain": [
       "   Unnamed: 0 Rating                      Comments                       overall  negative  neutral  positive  compound\n",
       "0       0       ★★★   A Christopher Nolan movie where people swear a...    3.0      0.291    0.709      0.0     -0.477 \n",
       "1       1       ★★★                                     following on yt    3.0      0.000    1.000      0.0      0.000 \n",
       "2       2       ★★★                            Christopher Nolan Ranked    3.0      0.000    1.000      0.0      0.000 "
      ]
     },
     "metadata": {},
     "output_type": "display_data"
    },
    {
     "name": "stdout",
     "output_type": "stream",
     "text": [
      "insomnia-2002\n"
     ]
    },
    {
     "data": {
      "text/html": [
       "<div>\n",
       "<style scoped>\n",
       "    .dataframe tbody tr th:only-of-type {\n",
       "        vertical-align: middle;\n",
       "    }\n",
       "\n",
       "    .dataframe tbody tr th {\n",
       "        vertical-align: top;\n",
       "    }\n",
       "\n",
       "    .dataframe thead th {\n",
       "        text-align: right;\n",
       "    }\n",
       "</style>\n",
       "<table border=\"1\" class=\"dataframe\">\n",
       "  <thead>\n",
       "    <tr style=\"text-align: center;\">\n",
       "      <th></th>\n",
       "      <th>Unnamed: 0</th>\n",
       "      <th>Rating</th>\n",
       "      <th>Comments</th>\n",
       "      <th>overall</th>\n",
       "      <th>negative</th>\n",
       "      <th>neutral</th>\n",
       "      <th>positive</th>\n",
       "      <th>compound</th>\n",
       "    </tr>\n",
       "  </thead>\n",
       "  <tbody>\n",
       "    <tr>\n",
       "      <th>0</th>\n",
       "      <td>0</td>\n",
       "      <td>★★★½</td>\n",
       "      <td>could never happen to dunkaccino</td>\n",
       "      <td>3.5</td>\n",
       "      <td>0.000</td>\n",
       "      <td>1.000</td>\n",
       "      <td>0.000</td>\n",
       "      <td>0.000</td>\n",
       "    </tr>\n",
       "    <tr>\n",
       "      <th>1</th>\n",
       "      <td>1</td>\n",
       "      <td>★★★½</td>\n",
       "      <td>The MTV Movie Awards should have created a \"be...</td>\n",
       "      <td>3.5</td>\n",
       "      <td>0.261</td>\n",
       "      <td>0.418</td>\n",
       "      <td>0.321</td>\n",
       "      <td>0.178</td>\n",
       "    </tr>\n",
       "    <tr>\n",
       "      <th>2</th>\n",
       "      <td>2</td>\n",
       "      <td>★★★★</td>\n",
       "      <td>oh mr nolan how very david fincher of you!</td>\n",
       "      <td>4.0</td>\n",
       "      <td>0.000</td>\n",
       "      <td>1.000</td>\n",
       "      <td>0.000</td>\n",
       "      <td>0.000</td>\n",
       "    </tr>\n",
       "  </tbody>\n",
       "</table>\n",
       "</div>"
      ],
      "text/plain": [
       "   Unnamed: 0 Rating                      Comments                       overall  negative  neutral  positive  compound\n",
       "0       0      ★★★½                    could never happen to dunkaccino    3.5      0.000    1.000     0.000     0.000 \n",
       "1       1      ★★★½   The MTV Movie Awards should have created a \"be...    3.5      0.261    0.418     0.321     0.178 \n",
       "2       2      ★★★★          oh mr nolan how very david fincher of you!    4.0      0.000    1.000     0.000     0.000 "
      ]
     },
     "metadata": {},
     "output_type": "display_data"
    }
   ],
   "source": [
    "pd.set_option('display.max_rows', None)\n",
    "pd.set_option('display.max_columns', None)\n",
    "pd.set_option('display.width', 1000)\n",
    "pd.set_option('display.colheader_justify', 'center')\n",
    "pd.set_option('display.precision', 3)\n",
    "\n",
    "for film in films:\n",
    "    print(film)\n",
    "    display(films[film][:3])"
   ]
  },
  {
   "cell_type": "code",
   "execution_count": 15,
   "metadata": {},
   "outputs": [],
   "source": [
    "filmSentimentScore = dict.fromkeys(filmName)\n",
    "colName = ['negative', 'neutral', 'positive']\n",
    "\n",
    "for film in films:\n",
    "    filmSentimentScore[film] = dict.fromkeys(['negative', 'neutral', 'positive', 'compound'])"
   ]
  },
  {
   "cell_type": "code",
   "execution_count": 16,
   "metadata": {},
   "outputs": [],
   "source": [
    "# I am not sure if I am calculating this correctly\n",
    "for film in films:\n",
    "    for col in colName:\n",
    "        filmSentimentScore[film][col] = round(films[film][col].mean(), 3)"
   ]
  },
  {
   "cell_type": "code",
   "execution_count": 17,
   "metadata": {},
   "outputs": [
    {
     "name": "stdout",
     "output_type": "stream",
     "text": [
      "film: interstellar\n",
      "interstellar TotalCompoundScore: 58.05299999999999\n",
      "count: 238\n",
      "film: inception\n",
      "inception TotalCompoundScore: 87.94650000000001\n",
      "count: 253\n",
      "film: tenet\n",
      "tenet TotalCompoundScore: 13.584400000000011\n",
      "count: 156\n",
      "film: memento\n",
      "memento TotalCompoundScore: 79.26180000000001\n",
      "count: 273\n",
      "film: the-prestige\n",
      "the-prestige TotalCompoundScore: 63.70679999999997\n",
      "count: 259\n",
      "film: the-dark-knight\n",
      "the-dark-knight TotalCompoundScore: 91.90639999999992\n",
      "count: 262\n",
      "film: dunkirk-2017\n",
      "dunkirk-2017 TotalCompoundScore: 41.73899999999999\n",
      "count: 231\n",
      "film: following\n",
      "following TotalCompoundScore: 120.26009999999988\n",
      "count: 297\n",
      "film: insomnia-2002\n",
      "insomnia-2002 TotalCompoundScore: 78.476\n",
      "count: 258\n"
     ]
    }
   ],
   "source": [
    "# calculating the mean compound score seperately\n",
    "meanCompound = []\n",
    "\n",
    "for film in filmName:\n",
    "    print('film: ' + film)\n",
    "    nrow = len(films[film].index)\n",
    "    count = 0\n",
    "    totalScores = sum(films[film]['compound'])\n",
    "    print(film + ' TotalCompoundScore: ' + str(totalScores))\n",
    "    for i in range(nrow):\n",
    "        if films[film]['compound'][i] != 0:\n",
    "            count += 1\n",
    "    print('count: ' + str(count))\n",
    "    filmSentimentScore[film]['compound'] = round(totalScores / count, 3)"
   ]
  },
  {
   "cell_type": "code",
   "execution_count": 18,
   "metadata": {},
   "outputs": [
    {
     "data": {
      "text/plain": [
       "{'interstellar': {'negative': 0.091,\n",
       "  'neutral': 0.735,\n",
       "  'positive': 0.175,\n",
       "  'compound': 0.244},\n",
       " 'inception': {'negative': 0.054,\n",
       "  'neutral': 0.763,\n",
       "  'positive': 0.18,\n",
       "  'compound': 0.348},\n",
       " 'tenet': {'negative': 0.092,\n",
       "  'neutral': 0.796,\n",
       "  'positive': 0.112,\n",
       "  'compound': 0.087},\n",
       " 'memento': {'negative': 0.085,\n",
       "  'neutral': 0.76,\n",
       "  'positive': 0.153,\n",
       "  'compound': 0.29},\n",
       " 'the-prestige': {'negative': 0.094,\n",
       "  'neutral': 0.757,\n",
       "  'positive': 0.149,\n",
       "  'compound': 0.246},\n",
       " 'the-dark-knight': {'negative': 0.058,\n",
       "  'neutral': 0.758,\n",
       "  'positive': 0.183,\n",
       "  'compound': 0.351},\n",
       " 'dunkirk-2017': {'negative': 0.092,\n",
       "  'neutral': 0.742,\n",
       "  'positive': 0.165,\n",
       "  'compound': 0.181},\n",
       " 'following': {'negative': 0.059,\n",
       "  'neutral': 0.775,\n",
       "  'positive': 0.166,\n",
       "  'compound': 0.405},\n",
       " 'insomnia-2002': {'negative': 0.087,\n",
       "  'neutral': 0.75,\n",
       "  'positive': 0.162,\n",
       "  'compound': 0.304}}"
      ]
     },
     "execution_count": 18,
     "metadata": {},
     "output_type": "execute_result"
    }
   ],
   "source": [
    "filmSentimentScore"
   ]
  },
  {
   "cell_type": "markdown",
   "metadata": {},
   "source": [
    "---\n",
    "## Testing the VADER's Accuracy"
   ]
  },
  {
   "cell_type": "markdown",
   "metadata": {},
   "source": [
    "Positive Review: 'overall' > 3 <br>\n",
    "Negative Review: 'overall' < 3 <br>\n",
    "\n",
    "What VADER's positive review: 'compound' > 0.35 <br>\n",
    "What VADER's nagative review: 'compound' < 0 <br>\n",
    "    \n",
    "Reviews that both we and VADER think are a positive review: 'overall' > 4 & 'compound' > 0.35 <br>\n",
    "Reviews that both we and VADER think are a negative review: 'overall' < 3.5 & 'compound' < 0\n"
   ]
  },
  {
   "cell_type": "code",
   "execution_count": 19,
   "metadata": {},
   "outputs": [
    {
     "name": "stdout",
     "output_type": "stream",
     "text": [
      "interstellar\n",
      "There are in total of 299 positive review\n",
      "VADER thinks that there are 135 positive review\n",
      "Reivews that both we and VADER think is a positive review: 128\n",
      "Accuracy: 0.428\n",
      "There are in total of 20 negative review\n",
      "VADER thinks that there are 79 negative review\n",
      "Reivews that both we and VADER think is a negative review: 6\n",
      "Accuracy: 0.3\n",
      "\n",
      "\n",
      "inception\n",
      "There are in total of 356 positive review\n",
      "VADER thinks that there are 160 positive review\n",
      "Reivews that both we and VADER think is a positive review: 156\n",
      "Accuracy: 0.438\n",
      "There are in total of 8 negative review\n",
      "VADER thinks that there are 54 negative review\n",
      "Reivews that both we and VADER think is a negative review: 4\n",
      "Accuracy: 0.5\n",
      "\n",
      "\n",
      "tenet\n",
      "There are in total of 156 positive review\n",
      "VADER thinks that there are 68 positive review\n",
      "Reivews that both we and VADER think is a positive review: 47\n",
      "Accuracy: 0.301\n",
      "There are in total of 59 negative review\n",
      "VADER thinks that there are 67 negative review\n",
      "Reivews that both we and VADER think is a negative review: 22\n",
      "Accuracy: 0.373\n",
      "\n",
      "\n",
      "memento\n",
      "There are in total of 375 positive review\n",
      "VADER thinks that there are 154 positive review\n",
      "Reivews that both we and VADER think is a positive review: 151\n",
      "Accuracy: 0.403\n",
      "There are in total of 7 negative review\n",
      "VADER thinks that there are 81 negative review\n",
      "Reivews that both we and VADER think is a negative review: 4\n",
      "Accuracy: 0.571\n",
      "\n",
      "\n",
      "the-prestige\n",
      "There are in total of 355 positive review\n",
      "VADER thinks that there are 147 positive review\n",
      "Reivews that both we and VADER think is a positive review: 142\n",
      "Accuracy: 0.4\n",
      "There are in total of 11 negative review\n",
      "VADER thinks that there are 85 negative review\n",
      "Reivews that both we and VADER think is a negative review: 4\n",
      "Accuracy: 0.364\n",
      "\n",
      "\n",
      "the-dark-knight\n",
      "There are in total of 352 positive review\n",
      "VADER thinks that there are 168 positive review\n",
      "Reivews that both we and VADER think is a positive review: 164\n",
      "Accuracy: 0.466\n",
      "There are in total of 14 negative review\n",
      "VADER thinks that there are 67 negative review\n",
      "Reivews that both we and VADER think is a negative review: 8\n",
      "Accuracy: 0.571\n",
      "\n",
      "\n",
      "dunkirk-2017\n",
      "There are in total of 288 positive review\n",
      "VADER thinks that there are 119 positive review\n",
      "Reivews that both we and VADER think is a positive review: 108\n",
      "Accuracy: 0.375\n",
      "There are in total of 17 negative review\n",
      "VADER thinks that there are 89 negative review\n",
      "Reivews that both we and VADER think is a negative review: 7\n",
      "Accuracy: 0.412\n",
      "\n",
      "\n",
      "following\n",
      "There are in total of 255 positive review\n",
      "VADER thinks that there are 201 positive review\n",
      "Reivews that both we and VADER think is a positive review: 129\n",
      "Accuracy: 0.506\n",
      "There are in total of 54 negative review\n",
      "VADER thinks that there are 65 negative review\n",
      "Reivews that both we and VADER think is a negative review: 16\n",
      "Accuracy: 0.296\n",
      "\n",
      "\n",
      "insomnia-2002\n",
      "There are in total of 272 positive review\n",
      "VADER thinks that there are 147 positive review\n",
      "Reivews that both we and VADER think is a positive review: 123\n",
      "Accuracy: 0.452\n",
      "There are in total of 33 negative review\n",
      "VADER thinks that there are 73 negative review\n",
      "Reivews that both we and VADER think is a negative review: 15\n",
      "Accuracy: 0.455\n",
      "\n",
      "\n"
     ]
    }
   ],
   "source": [
    "\n",
    "for film in filmName:\n",
    "    percent = []\n",
    "    name = films[film]\n",
    "    colName = list(name)\n",
    "    \n",
    "    positive = len(name.loc[(name['overall'] > 3), colName])\n",
    "    positiveVADER = len(name.loc[(name['compound'] > 0.35), colName])\n",
    "    posIntersection = len(name.loc[(name['overall'] > 3) & (name['compound'] > 0.35), colName])\n",
    "\n",
    "    \n",
    "    negative = len(name.loc[(name['overall'] < 3), colName])\n",
    "    negativeVADER = len(name.loc[(name['compound'] < 0), colName])\n",
    "    negIntersection = len(name.loc[(name['overall'] < 3) & (name['compound'] < 0), colName])\n",
    "\n",
    "    \n",
    "    print(film)\n",
    "    print('There are in total of ' + str(positive) + ' positive review')\n",
    "    print('VADER thinks that there are ' + str(positiveVADER) + ' positive review')\n",
    "    print('Reivews that both we and VADER think is a positive review: ' + str(posIntersection))\n",
    "    print('Accuracy: ' + str(round(posIntersection / positive, 3)))\n",
    "    \n",
    "    print('There are in total of ' + str(negative) + ' negative review')\n",
    "    print('VADER thinks that there are ' + str(negativeVADER) + ' negative review')\n",
    "    print('Reivews that both we and VADER think is a negative review: ' + str(negIntersection))\n",
    "    print('Accuracy: ' + str(round(negIntersection / negative, 3)))\n",
    "    \n",
    "    print()\n",
    "    print()\n"
   ]
  },
  {
   "cell_type": "markdown",
   "metadata": {},
   "source": [
    "---\n",
    "## Tf-Idf"
   ]
  },
  {
   "cell_type": "code",
   "execution_count": 26,
   "metadata": {},
   "outputs": [],
   "source": [
    "mostPosReviews = {}\n",
    "for film in films:\n",
    "    mostPosReviews[film] = pd.DataFrame(films[film].loc[(films[film]['overall'] > 3), ['Comments', 'overall']])\n",
    "    mostPosReviews[film].columns = ['Comments', 'overall']\n",
    "    \n",
    "mostNegReviews = {}\n",
    "for film in films:\n",
    "    mostNegReviews[film] = pd.DataFrame(films[film].loc[(films[film]['overall'] < 3), ['Comments', 'overall']])\n",
    "    mostNegReviews[film].columns = ['Comments', 'overall']"
   ]
  },
  {
   "cell_type": "code",
   "execution_count": 27,
   "metadata": {},
   "outputs": [],
   "source": [
    "mostPosReviewsList = []\n",
    "i = 0\n",
    "for review in mostPosReviews:\n",
    "    mostPosReviewsList.append(mostPosReviews[review]['Comments'].tolist())\n",
    "    i += 1\n",
    "    \n",
    "mostNegReviewsList = []\n",
    "j = 0\n",
    "for review in mostNegReviews:\n",
    "    mostNegReviewsList.append(mostNegReviews[review]['Comments'].tolist())\n",
    "    j += 1\n"
   ]
  },
  {
   "cell_type": "code",
   "execution_count": 22,
   "metadata": {},
   "outputs": [],
   "source": [
    "from sklearn.feature_extraction.text import TfidfTransformer\n",
    "from sklearn.feature_extraction.text import TfidfVectorizer\n",
    "from sklearn.feature_extraction.text import CountVectorizer"
   ]
  },
  {
   "cell_type": "code",
   "execution_count": 23,
   "metadata": {},
   "outputs": [],
   "source": [
    "english_stemmer = nltk.stem.SnowballStemmer('english')\n",
    "\n",
    "class StemmedTfidfCountVectorizer(TfidfVectorizer):\n",
    "    def build_analyzer(self):\n",
    "        analyzer = super(StemmedTfidfCountVectorizer, self).build_analyzer()\n",
    "        return lambda doc: ([english_stemmer.stem(w) for w in analyzer(doc)])"
   ]
  },
  {
   "cell_type": "markdown",
   "metadata": {},
   "source": [
    "### Positive Matrix"
   ]
  },
  {
   "cell_type": "code",
   "execution_count": 28,
   "metadata": {},
   "outputs": [],
   "source": [
    "# create matrix for each of the film\n",
    "tfidf_vectorizer=StemmedTfidfCountVectorizer(stop_words='english', use_idf=True) # excludings stopwords again\n",
    " \n",
    "mostPosReviewsMatrix = {}\n",
    "x = 0\n",
    "for i in mostPosReviewsList:\n",
    "    tfidf_vectorizer_vectors=tfidf_vectorizer.fit_transform(i)\n",
    "    mostPosReviewsMatrix[filmName[x]] = pd.DataFrame(tfidf_vectorizer_vectors.toarray(), columns=tfidf_vectorizer.get_feature_names())\n",
    "    x += 1"
   ]
  },
  {
   "cell_type": "code",
   "execution_count": 29,
   "metadata": {},
   "outputs": [],
   "source": [
    "top_dict_pos = {}\n",
    "for film in filmName:\n",
    "    nReview = len(mostPosReviewsMatrix[film].index)\n",
    "    data = mostPosReviewsMatrix[film].transpose()\n",
    "    for c in range(nReview):\n",
    "        top = data.iloc[:,c].sort_values(ascending = False).head(30)\n",
    "        top_dict_pos[film] = list(zip(top.index, top.values))"
   ]
  },
  {
   "cell_type": "code",
   "execution_count": 30,
   "metadata": {},
   "outputs": [
    {
     "name": "stdout",
     "output_type": "stream",
     "text": [
      "interstellar\n",
      "3rd, view, zoop, fill, fell, felt, fi, fiction, figur\n",
      "---\n",
      "inception\n",
      "concern, far, forgot, favorit, long, seen, ve, way, masterpiec\n",
      "---\n",
      "tenet\n",
      "dream, sail, yacht, amalfi, coast, life, debicki, elizabeth, zero\n",
      "---\n",
      "memento\n",
      "number, 200, year, film, fresh, format, forward, fractur, fragment\n",
      "---\n",
      "the-prestige\n",
      "ziggi, feel, fast, father, fav, favorit, favoritku, favourit, feelin\n",
      "---\n",
      "the-dark-knight\n",
      "speechless, liter, zimmer, feloni, featur, feautr, feel, fell, fella\n",
      "---\n",
      "dunkirk-2017\n",
      "weymouth, spitfir, holiday, prop, flex, paparazzi, fli, set, harbour\n",
      "---\n",
      "following\n",
      "10, youtub, favorit, far, fashion, fast, fatal, fatpie42, fave\n",
      "---\n",
      "insomnia-2002\n",
      "challeng, dormer, tri, detect, sleep, fincher, fill, film, filmmak\n",
      "---\n"
     ]
    }
   ],
   "source": [
    "# Print the top 15 words said by positive reviews\n",
    "for film, top_words in top_dict_pos.items():\n",
    "    print(film)\n",
    "    print(', '.join([word for word, count in top_words[0:9]]))\n",
    "    print('---')"
   ]
  },
  {
   "cell_type": "markdown",
   "metadata": {},
   "source": [
    "**Try bi-gram**"
   ]
  },
  {
   "cell_type": "code",
   "execution_count": 31,
   "metadata": {},
   "outputs": [],
   "source": [
    "# create matrix for each of the film\n",
    "tfidf_vectorizerBigram=StemmedTfidfCountVectorizer(stop_words='english', use_idf=True, ngram_range = (2, 2)) \n",
    " \n",
    "mostPosReviewsBigramMatrix = {}\n",
    "x = 0\n",
    "for i in mostPosReviewsList:\n",
    "    tfidf_vectorizer_vectors_bigram=tfidf_vectorizerBigram.fit_transform(i)\n",
    "    mostPosReviewsBigramMatrix[filmName[x]] = pd.DataFrame(tfidf_vectorizer_vectors_bigram.toarray(), columns=tfidf_vectorizerBigram.get_feature_names())\n",
    "    x += 1"
   ]
  },
  {
   "cell_type": "code",
   "execution_count": 32,
   "metadata": {},
   "outputs": [],
   "source": [
    "top_dict_pos_bigram = {}\n",
    "for film in filmName:\n",
    "    nReview = len(mostPosReviewsBigramMatrix[film].index)\n",
    "    data = mostPosReviewsBigramMatrix[film].transpose()\n",
    "    for c in range(nReview):\n",
    "        top = data.iloc[:,c].sort_values(ascending = False).head(30)\n",
    "        top_dict_pos_bigram[film] = list(zip(top.index, top.values))"
   ]
  },
  {
   "cell_type": "code",
   "execution_count": 33,
   "metadata": {},
   "outputs": [
    {
     "name": "stdout",
     "output_type": "stream",
     "text": [
      "interstellar\n",
      "3rd view, zoop movi, gets believ, girl zola, gigantic galaxi, gets old, gets heavi, gets feel, gets bett\n",
      "---\n",
      "inception\n",
      "forgot lov, movie forgot, loved masterpiec, favorites arthur, far concern, long v, way long, concerned favorit, masterpiece far\n",
      "---\n",
      "tenet\n",
      "dream lif, sail yacht, life sail, debicki amalfi, yacht elizabeth, amalfi coast, elizabeth debicki, gniweiver ot, getting movi\n",
      "---\n",
      "memento\n",
      "number 200, film numb, 200 year, great idea, great commentari, great cast, great car, great act, gran actuacion\n",
      "---\n",
      "the-prestige\n",
      "ziggy stardust, greatness memento, funny word, fun watch, fun rewatch, fun fact, fun el, fully realis, fully grasp\n",
      "---\n",
      "the-dark-knight\n",
      "literally speechless, good di, good act, good 2021, gonna tel, gone soon, gone hand, gone gorg, going soon\n",
      "---\n",
      "dunkirk-2017\n",
      "prop boat, videos prop, times fli, seen spitfir, paparazzi near, planes year, fly flex, set crew, flex saw\n",
      "---\n",
      "following\n",
      "youtube com, flaws great, follow movi, follow club, focus charact, flips head, flick pretti, fleshed definit, flaws stori\n",
      "---\n",
      "insomnia-2002\n",
      "try sleep, detective dorm, dormer tri, sleep challeng, genres experi, gets excel, gets bit, gets bett, gentlemen great\n",
      "---\n"
     ]
    }
   ],
   "source": [
    "# Print the top 15 words said by positive reviews\n",
    "for film, top_words in top_dict_pos_bigram.items():\n",
    "    print(film)\n",
    "    print(', '.join([word for word, count in top_words[0:9]]))\n",
    "    print('---')"
   ]
  },
  {
   "cell_type": "markdown",
   "metadata": {},
   "source": [
    "### Negative Matrix"
   ]
  },
  {
   "cell_type": "code",
   "execution_count": 34,
   "metadata": {},
   "outputs": [],
   "source": [
    "mostNegReviewsMatrix = {}\n",
    "x = 0\n",
    "for i in mostNegReviewsList:\n",
    "    tfidf_vectorizer_vectors=tfidf_vectorizer.fit_transform(i)\n",
    "    mostNegReviewsMatrix[filmName[x]] = pd.DataFrame(tfidf_vectorizer_vectors.toarray(), columns=tfidf_vectorizer.get_feature_names())\n",
    "    x += 1\n",
    "    \n",
    "\n",
    "top_dict_neg = {}\n",
    "for film in filmName:\n",
    "    nReview = len(mostNegReviewsMatrix[film].index)\n",
    "    data = mostNegReviewsMatrix[film].transpose()\n",
    "    for c in range(nReview):\n",
    "        top = data.iloc[:,c].sort_values(ascending = False).head(30)\n",
    "        top_dict_neg[film] = list(zip(top.index, top.values))"
   ]
  },
  {
   "cell_type": "code",
   "execution_count": 35,
   "metadata": {},
   "outputs": [
    {
     "name": "stdout",
     "output_type": "stream",
     "text": [
      "interstellar\n",
      "susskind, wrong, christoph, astrophysicist, leonard, assert, ve, fame, seen\n",
      "---\n",
      "inception\n",
      "paprika, mal, hecha, addit, engin, disguis, disjoint, don, draw\n",
      "---\n",
      "tenet\n",
      "hell, great, cinematographi, confus, zero, fortnit, flop, focus, fool\n",
      "---\n",
      "memento\n",
      "reddit, masturb, heterosexu, vandal, grant, film, forget, fuck, get\n",
      "---\n",
      "the-prestige\n",
      "zero, wrong, don, downright, eeri, end, fall, featur, feel\n",
      "---\n",
      "the-dark-knight\n",
      "hyperbol, clunki, dialogu, edit, contrarian, statement, drop, time, tri\n",
      "---\n",
      "dunkirk-2017\n",
      "just, thirsti, big, bitch, style, countless, harri, twink, deal\n",
      "---\n",
      "following\n",
      "anymor, fincher, bro, peopl, make, good, film, nolan, dump\n",
      "---\n",
      "insomnia-2002\n",
      "meh, yogurt, fall, generic, gave, frogger, finish, fincher, filmographi\n",
      "---\n"
     ]
    }
   ],
   "source": [
    "# Print the top 15 words said by positive reviews\n",
    "for film, top_words in top_dict_neg.items():\n",
    "    print(film)\n",
    "    print(', '.join([word for word, count in top_words[0:9]]))\n",
    "    print('---')"
   ]
  },
  {
   "cell_type": "markdown",
   "metadata": {},
   "source": [
    "**Try Bi-gram**"
   ]
  },
  {
   "cell_type": "code",
   "execution_count": 36,
   "metadata": {},
   "outputs": [],
   "source": [
    "mostNegReviewsBigramMatrix = {}\n",
    "x = 0\n",
    "for i in mostNegReviewsList:\n",
    "    tfidf_vectorizer_vectors_bigram=tfidf_vectorizerBigram.fit_transform(i)\n",
    "    mostNegReviewsBigramMatrix[filmName[x]] = pd.DataFrame(tfidf_vectorizer_vectors_bigram.toarray(), columns=tfidf_vectorizerBigram.get_feature_names())\n",
    "    x += 1\n",
    "    \n",
    "top_dict_neg_bigram = {}\n",
    "for film in filmName:\n",
    "    nReview = len(mostNegReviewsBigramMatrix[film].index)\n",
    "    data = mostNegReviewsBigramMatrix[film].transpose()\n",
    "    for c in range(nReview):\n",
    "        top = data.iloc[:,c].sort_values(ascending = False).head(30)\n",
    "        top_dict_neg_bigram[film] = list(zip(top.index, top.values))\n",
    "    "
   ]
  },
  {
   "cell_type": "code",
   "execution_count": 37,
   "metadata": {},
   "outputs": [
    {
     "name": "stdout",
     "output_type": "stream",
     "text": [
      "interstellar\n",
      "astrophysicist christoph, seen year, movie v, asserts leonard, ve seen, nolan assert, famed astrophysicist, susskind wrong, leonard susskind\n",
      "---\n",
      "inception\n",
      "mal hecha, paprika m, hates wif, hair way, development mishmash, dicaprio spectacular, disguised subject, disjointed deriv, don wish\n",
      "---\n",
      "tenet\n",
      "great cinematographi, cinematography confus, confusing hel, years mf, gay charact, forgot immedi, forgot tel, forgot upload, fucken audio\n",
      "---\n",
      "memento\n",
      "heterosexuals reddit, reddit masturb, vandalized bodi, events piec, joe pantoliano, instructions fact, insincerity speak, inciting incid, incident effect\n",
      "---\n",
      "the-prestige\n",
      "zero cinemat, don hel, downright eeri, eerie actor, ending rev, fall clev, features ricki, feel fre, feels meticul\n",
      "---\n",
      "the-dark-knight\n",
      "dialogue clunki, times edit, just tdk, films rec, overrated film, editing dialogu, drop hyperbol, recent tim, contrarian drop\n",
      "---\n",
      "dunkirk-2017\n",
      "styles just, big deal, thirsty harri, just thirsti, just countless, twink bitch, countless twink, bitches big, harry styl\n",
      "---\n",
      "following\n",
      "good film, make good, bro peopl, films anymor, nolan finch, people mak, anymore nolan, film th, filmmaker mak\n",
      "---\n",
      "insomnia-2002\n",
      "yogurt director, filmography tenet, guess expect, gruff dog, great worth, great sceneri, great punchlin, great perform, good way\n",
      "---\n"
     ]
    }
   ],
   "source": [
    "# Print the top 15 words said by positive reviews\n",
    "for film, top_words in top_dict_neg_bigram.items():\n",
    "    print(film)\n",
    "    print(', '.join([word for word, count in top_words[0:9]]))\n",
    "    print('---')"
   ]
  },
  {
   "cell_type": "markdown",
   "metadata": {},
   "source": [
    "---\n",
    "## Prediction All"
   ]
  },
  {
   "cell_type": "code",
   "execution_count": 38,
   "metadata": {},
   "outputs": [],
   "source": [
    "filmNolan = pd.read_csv('/Users/zejiachen/Desktop/fall 2021/QTM 340/Final Project/filmNolan.csv')"
   ]
  },
  {
   "cell_type": "code",
   "execution_count": 39,
   "metadata": {},
   "outputs": [
    {
     "data": {
      "text/html": [
       "<div>\n",
       "<style scoped>\n",
       "    .dataframe tbody tr th:only-of-type {\n",
       "        vertical-align: middle;\n",
       "    }\n",
       "\n",
       "    .dataframe tbody tr th {\n",
       "        vertical-align: top;\n",
       "    }\n",
       "\n",
       "    .dataframe thead th {\n",
       "        text-align: right;\n",
       "    }\n",
       "</style>\n",
       "<table border=\"1\" class=\"dataframe\">\n",
       "  <thead>\n",
       "    <tr style=\"text-align: center;\">\n",
       "      <th></th>\n",
       "      <th>Unnamed: 0</th>\n",
       "      <th>Film</th>\n",
       "      <th>Rating</th>\n",
       "      <th>Comments</th>\n",
       "      <th>overall</th>\n",
       "      <th>negative</th>\n",
       "      <th>neutral</th>\n",
       "      <th>positive</th>\n",
       "      <th>compound</th>\n",
       "    </tr>\n",
       "  </thead>\n",
       "  <tbody>\n",
       "    <tr>\n",
       "      <th>0</th>\n",
       "      <td>0</td>\n",
       "      <td>interstellar</td>\n",
       "      <td>★★★★★</td>\n",
       "      <td>I have a headache, but it's the best headache ...</td>\n",
       "      <td>5.0</td>\n",
       "      <td>0.000</td>\n",
       "      <td>0.608</td>\n",
       "      <td>0.392</td>\n",
       "      <td>0.778</td>\n",
       "    </tr>\n",
       "    <tr>\n",
       "      <th>1</th>\n",
       "      <td>1</td>\n",
       "      <td>interstellar</td>\n",
       "      <td>★★★★★</td>\n",
       "      <td>tell me you wouldn't cry too if your son grows...</td>\n",
       "      <td>5.0</td>\n",
       "      <td>0.000</td>\n",
       "      <td>0.846</td>\n",
       "      <td>0.154</td>\n",
       "      <td>0.372</td>\n",
       "    </tr>\n",
       "    <tr>\n",
       "      <th>2</th>\n",
       "      <td>2</td>\n",
       "      <td>interstellar</td>\n",
       "      <td>★★★★★</td>\n",
       "      <td>I'm pretty sure no one will EVER come close to...</td>\n",
       "      <td>5.0</td>\n",
       "      <td>0.178</td>\n",
       "      <td>0.594</td>\n",
       "      <td>0.227</td>\n",
       "      <td>0.226</td>\n",
       "    </tr>\n",
       "    <tr>\n",
       "      <th>3</th>\n",
       "      <td>3</td>\n",
       "      <td>interstellar</td>\n",
       "      <td>★★★★</td>\n",
       "      <td>When those Zimmer organs kick in *biggest poss...</td>\n",
       "      <td>4.0</td>\n",
       "      <td>0.000</td>\n",
       "      <td>1.000</td>\n",
       "      <td>0.000</td>\n",
       "      <td>0.000</td>\n",
       "    </tr>\n",
       "    <tr>\n",
       "      <th>4</th>\n",
       "      <td>4</td>\n",
       "      <td>interstellar</td>\n",
       "      <td>★★★★★</td>\n",
       "      <td>i needed a REALLY good cry</td>\n",
       "      <td>5.0</td>\n",
       "      <td>0.407</td>\n",
       "      <td>0.200</td>\n",
       "      <td>0.393</td>\n",
       "      <td>-0.038</td>\n",
       "    </tr>\n",
       "  </tbody>\n",
       "</table>\n",
       "</div>"
      ],
      "text/plain": [
       "   Unnamed: 0      Film     Rating                      Comments                       overall  negative  neutral  positive  compound\n",
       "0       0      interstellar  ★★★★★  I have a headache, but it's the best headache ...    5.0      0.000    0.608     0.392     0.778 \n",
       "1       1      interstellar  ★★★★★  tell me you wouldn't cry too if your son grows...    5.0      0.000    0.846     0.154     0.372 \n",
       "2       2      interstellar  ★★★★★  I'm pretty sure no one will EVER come close to...    5.0      0.178    0.594     0.227     0.226 \n",
       "3       3      interstellar   ★★★★  When those Zimmer organs kick in *biggest poss...    4.0      0.000    1.000     0.000     0.000 \n",
       "4       4      interstellar  ★★★★★                         i needed a REALLY good cry    5.0      0.407    0.200     0.393    -0.038 "
      ]
     },
     "execution_count": 39,
     "metadata": {},
     "output_type": "execute_result"
    }
   ],
   "source": [
    "filmNolan.head()"
   ]
  },
  {
   "cell_type": "code",
   "execution_count": 41,
   "metadata": {},
   "outputs": [
    {
     "name": "stdout",
     "output_type": "stream",
     "text": [
      "There are in total of 2708 positive review\n",
      "VADER thinks that there are 1299 positive review\n",
      "Reivews that both we and VADER think is a positive review: 1148\n",
      "Accuracy: 0.424\n",
      "There are in total of 223 negative review\n",
      "VADER thinks that there are 660 negative review\n",
      "Reivews that both we and VADER think is a negative review: 86\n",
      "Accuracy: 0.386\n",
      "\n",
      "\n"
     ]
    }
   ],
   "source": [
    "\n",
    "positiveAll = len(filmNolan.loc[(filmNolan['overall'] > 3)])\n",
    "positiveVADERAll = len(filmNolan.loc[(filmNolan['compound'] > 0.35)])\n",
    "posIntersectionAll = len(filmNolan.loc[(filmNolan['overall'] > 3) & (filmNolan['compound'] > 0.35)])\n",
    "\n",
    "\n",
    "negativeAll = len(filmNolan.loc[(filmNolan['overall'] < 3)])\n",
    "negativeVADERAll = len(filmNolan.loc[(filmNolan['compound'] < 0)])\n",
    "negIntersectionAll = len(filmNolan.loc[(filmNolan['overall'] < 3) & (filmNolan['compound'] < 0)])\n",
    "\n",
    "\n",
    "\n",
    "print('There are in total of ' + str(positiveAll) + ' positive review')\n",
    "print('VADER thinks that there are ' + str(positiveVADERAll) + ' positive review')\n",
    "print('Reivews that both we and VADER think is a positive review: ' + str(posIntersectionAll))\n",
    "print('Accuracy: ' + str(round(posIntersectionAll / positiveAll, 3)))\n",
    "\n",
    "print('There are in total of ' + str(negativeAll) + ' negative review')\n",
    "print('VADER thinks that there are ' + str(negativeVADERAll) + ' negative review')\n",
    "print('Reivews that both we and VADER think is a negative review: ' + str(negIntersectionAll))\n",
    "print('Accuracy: ' + str(round(negIntersectionAll / negativeAll, 3)))\n",
    "\n",
    "print()\n",
    "print()\n"
   ]
  },
  {
   "cell_type": "markdown",
   "metadata": {},
   "source": [
    "--- \n",
    "## Tokenization"
   ]
  },
  {
   "cell_type": "code",
   "execution_count": 54,
   "metadata": {},
   "outputs": [],
   "source": [
    "english_stemmer = nltk.stem.SnowballStemmer('english')\n",
    "\n",
    "class StemmedCountVectorizer(CountVectorizer):\n",
    "    def build_analyzer(self):\n",
    "        analyzer = super(StemmedCountVectorizer, self).build_analyzer()\n",
    "        return lambda doc: ([english_stemmer.stem(w) for w in analyzer(doc)])"
   ]
  },
  {
   "cell_type": "markdown",
   "metadata": {},
   "source": [
    "**Postitive Matrix**"
   ]
  },
  {
   "cell_type": "code",
   "execution_count": 57,
   "metadata": {},
   "outputs": [],
   "source": [
    "# create matrix for each of the film\n",
    "vectorizer=StemmedCountVectorizer(stop_words='english') # excludings stopwords again\n",
    " \n",
    "mostPosReviewsMatrixFreq = {}\n",
    "x = 0\n",
    "for i in mostPosReviewsList:\n",
    "    vectorizer_vectors=vectorizer.fit_transform(i)\n",
    "    mostPosReviewsMatrixFreq[filmName[x]] = pd.DataFrame(vectorizer_vectors.toarray(), columns=vectorizer.get_feature_names())\n",
    "    x += 1"
   ]
  },
  {
   "cell_type": "code",
   "execution_count": 59,
   "metadata": {},
   "outputs": [],
   "source": [
    "top_dict_pos_freq = {}\n",
    "for film in filmName:\n",
    "    nReview = len(mostPosReviewsMatrixFreq[film].index)\n",
    "    data = mostPosReviewsMatrixFreq[film].transpose()\n",
    "    for c in range(nReview):\n",
    "        top = data.iloc[:,c].sort_values(ascending = False).head(30)\n",
    "        top_dict_pos_freq[film] = list(zip(top.index, top.values))"
   ]
  },
  {
   "cell_type": "code",
   "execution_count": 60,
   "metadata": {},
   "outputs": [
    {
     "name": "stdout",
     "output_type": "stream",
     "text": [
      "interstellar\n",
      "3rd, view, zoop, fill, fell, felt, fi, fiction, figur\n",
      "---\n",
      "inception\n",
      "favorit, masterpiec, way, far, movi, forgot, eam, concern, love\n",
      "---\n",
      "tenet\n",
      "dream, sail, yacht, amalfi, debicki, life, coast, elizabeth, zero\n",
      "---\n",
      "memento\n",
      "year, number, film, 200, fresh, format, forward, fractur, fragment\n",
      "---\n",
      "the-prestige\n",
      "ziggi, feel, fast, father, fav, favorit, favoritku, favourit, feelin\n",
      "---\n",
      "the-dark-knight\n",
      "liter, speechless, zimmer, feloni, featur, feautr, feel, fell, fella\n",
      "---\n",
      "dunkirk-2017\n",
      "weymouth, spitfir, crew, video, boat, time, flex, paparazzi, fli\n",
      "---\n",
      "following\n",
      "10, youtub, favorit, far, fashion, fast, fatal, fatpie42, fave\n",
      "---\n",
      "insomnia-2002\n",
      "sleep, dormer, tri, challeng, detect, fincher, fill, film, filmmak\n",
      "---\n"
     ]
    }
   ],
   "source": [
    "# Print the top 15 words said by positive reviews\n",
    "for film, top_words in top_dict_pos_freq.items():\n",
    "    print(film)\n",
    "    print(', '.join([word for word, count in top_words[0:9]]))\n",
    "    print('---')"
   ]
  },
  {
   "cell_type": "markdown",
   "metadata": {},
   "source": [
    "--- \n",
    "**Try Bi-gram**"
   ]
  },
  {
   "cell_type": "code",
   "execution_count": 61,
   "metadata": {},
   "outputs": [],
   "source": [
    "# create matrix for each of the film\n",
    "vectorizer_bigram=StemmedCountVectorizer(stop_words='english', ngram_range = (2, 2)) # excludings stopwords again\n",
    " \n",
    "mostPosReviewsMatrixFreqBi = {}\n",
    "x = 0\n",
    "for i in mostPosReviewsList:\n",
    "    vectorizer_vectors=vectorizer_bigram.fit_transform(i)\n",
    "    mostPosReviewsMatrixFreqBi[filmName[x]] = pd.DataFrame(vectorizer_vectors.toarray(), columns=vectorizer_bigram.get_feature_names())\n",
    "    x += 1"
   ]
  },
  {
   "cell_type": "code",
   "execution_count": 62,
   "metadata": {},
   "outputs": [
    {
     "name": "stdout",
     "output_type": "stream",
     "text": [
      "interstellar\n",
      "3rd view, zoop movi, gets believ, girl zola, gigantic galaxi, gets old, gets heavi, gets feel, gets bett\n",
      "---\n",
      "inception\n",
      "ve seen, forgot lov, movie forgot, loved masterpiec, seen movi, favorites arthur, far concern, long v, way long\n",
      "---\n",
      "tenet\n",
      "dream lif, sail yacht, life sail, debicki amalfi, elizabeth debicki, yacht elizabeth, amalfi coast, gniweiver ot, getting movi\n",
      "---\n",
      "memento\n",
      "number 200, film numb, 200 year, great idea, great commentari, great cast, great car, great act, gran actuacion\n",
      "---\n",
      "the-prestige\n",
      "ziggy stardust, greatness memento, funny word, fun watch, fun rewatch, fun fact, fun el, fully realis, fully grasp\n",
      "---\n",
      "the-dark-knight\n",
      "literally speechless, good di, good act, good 2021, gonna tel, gone soon, gone hand, gone gorg, going soon\n",
      "---\n",
      "dunkirk-2017\n",
      "prop boat, spitfire plan, times fli, seen spitfir, paparazzi near, planes year, fly flex, set crew, flex saw\n",
      "---\n",
      "following\n",
      "youtube com, flaws great, follow movi, follow club, focus charact, flips head, flick pretti, fleshed definit, flaws stori\n",
      "---\n",
      "insomnia-2002\n",
      "try sleep, detective dorm, dormer tri, sleep challeng, genres experi, gets excel, gets bit, gets bett, gentlemen great\n",
      "---\n"
     ]
    }
   ],
   "source": [
    "top_dict_pos_freq_bigram = {}\n",
    "for film in filmName:\n",
    "    nReview = len(mostPosReviewsMatrixFreqBi[film].index)\n",
    "    data = mostPosReviewsMatrixFreqBi[film].transpose()\n",
    "    for c in range(nReview):\n",
    "        top = data.iloc[:,c].sort_values(ascending = False).head(30)\n",
    "        top_dict_pos_freq_bigram[film] = list(zip(top.index, top.values))\n",
    "\n",
    "# Print the top 15 words said by positive reviews\n",
    "for film, top_words in top_dict_pos_freq_bigram.items():\n",
    "    print(film)\n",
    "    print(', '.join([word for word, count in top_words[0:9]]))\n",
    "    print('---')"
   ]
  },
  {
   "cell_type": "markdown",
   "metadata": {},
   "source": [
    "**Negative Matrix**"
   ]
  },
  {
   "cell_type": "code",
   "execution_count": 63,
   "metadata": {},
   "outputs": [],
   "source": [
    "mostNegReviewsMatrixFreq = {}\n",
    "x = 0\n",
    "for i in mostNegReviewsList:\n",
    "    vectorizer_vectors=vectorizer.fit_transform(i)\n",
    "    mostNegReviewsMatrixFreq[filmName[x]] = pd.DataFrame(vectorizer_vectors.toarray(), columns=vectorizer.get_feature_names())\n",
    "    x += 1\n",
    "    \n",
    "\n",
    "top_dict_neg_freq = {}\n",
    "for film in filmName:\n",
    "    nReview = len(mostNegReviewsMatrixFreq[film].index)\n",
    "    data = mostNegReviewsMatrixFreq[film].transpose()\n",
    "    for c in range(nReview):\n",
    "        top = data.iloc[:,c].sort_values(ascending = False).head(30)\n",
    "        top_dict_neg_freq[film] = list(zip(top.index, top.values))\n",
    "        "
   ]
  },
  {
   "cell_type": "code",
   "execution_count": 65,
   "metadata": {},
   "outputs": [
    {
     "name": "stdout",
     "output_type": "stream",
     "text": [
      "interstellar\n",
      "year, seen, nolan, christoph, movi, astrophysicist, assert, ve, fame\n",
      "---\n",
      "inception\n",
      "paprika, mal, hecha, addit, engin, disguis, disjoint, don, draw\n",
      "---\n",
      "tenet\n",
      "hell, great, cinematographi, confus, zero, fortnit, flop, focus, fool\n",
      "---\n",
      "memento\n",
      "reddit, masturb, heterosexu, vandal, grant, film, forget, fuck, get\n",
      "---\n",
      "the-prestige\n",
      "zero, wrong, don, downright, eeri, end, fall, featur, feel\n",
      "---\n",
      "the-dark-knight\n",
      "hyperbol, tdk, dialogu, edit, contrarian, recent, clunki, film, overr\n",
      "---\n",
      "dunkirk-2017\n",
      "just, thirsti, big, bitch, style, countless, harri, twink, deal\n",
      "---\n",
      "following\n",
      "nolan, anymor, good, peopl, fincher, film, make, bro, dump\n",
      "---\n",
      "insomnia-2002\n",
      "meh, yogurt, fall, generic, gave, frogger, finish, fincher, filmographi\n",
      "---\n"
     ]
    }
   ],
   "source": [
    "# Print the top 15 words said by positive reviews\n",
    "for film, top_words in top_dict_neg_freq.items():\n",
    "    print(film)\n",
    "    print(', '.join([word for word, count in top_words[0:9]]))\n",
    "    print('---')"
   ]
  },
  {
   "cell_type": "markdown",
   "metadata": {},
   "source": [
    "**Try Bigram**"
   ]
  },
  {
   "cell_type": "code",
   "execution_count": 66,
   "metadata": {},
   "outputs": [],
   "source": [
    "mostNegReviewsMatrixFreqBigram = {}\n",
    "x = 0\n",
    "for i in mostNegReviewsList:\n",
    "    vectorizer_vectors_bigram=vectorizer_bigram.fit_transform(i)\n",
    "    mostNegReviewsMatrixFreqBigram[filmName[x]] = pd.DataFrame(vectorizer_vectors_bigram.toarray(), columns=vectorizer_bigram.get_feature_names())\n",
    "    x += 1\n",
    "    \n",
    "\n",
    "top_dict_neg_freq_bigram = {}\n",
    "for film in filmName:\n",
    "    nReview = len(mostNegReviewsMatrixFreqBigram[film].index)\n",
    "    data = mostNegReviewsMatrixFreqBigram[film].transpose()\n",
    "    for c in range(nReview):\n",
    "        top = data.iloc[:,c].sort_values(ascending = False).head(30)\n",
    "        top_dict_neg_freq_bigram[film] = list(zip(top.index, top.values))\n",
    "        "
   ]
  },
  {
   "cell_type": "code",
   "execution_count": 67,
   "metadata": {},
   "outputs": [
    {
     "name": "stdout",
     "output_type": "stream",
     "text": [
      "interstellar\n",
      "astrophysicist christoph, seen year, movie v, asserts leonard, ve seen, nolan assert, famed astrophysicist, susskind wrong, leonard susskind\n",
      "---\n",
      "inception\n",
      "mal hecha, paprika m, hates wif, hair way, development mishmash, dicaprio spectacular, disguised subject, disjointed deriv, don wish\n",
      "---\n",
      "tenet\n",
      "great cinematographi, cinematography confus, confusing hel, years mf, gay charact, forgot immedi, forgot tel, forgot upload, fucken audio\n",
      "---\n",
      "memento\n",
      "heterosexuals reddit, reddit masturb, vandalized bodi, events piec, joe pantoliano, instructions fact, insincerity speak, inciting incid, incident effect\n",
      "---\n",
      "the-prestige\n",
      "zero cinemat, don hel, downright eeri, eerie actor, ending rev, fall clev, features ricki, feel fre, feels meticul\n",
      "---\n",
      "the-dark-knight\n",
      "dialogue clunki, times edit, just tdk, films rec, overrated film, editing dialogu, drop hyperbol, recent tim, contrarian drop\n",
      "---\n",
      "dunkirk-2017\n",
      "styles just, big deal, thirsty harri, just thirsti, just countless, twink bitch, countless twink, bitches big, harry styl\n",
      "---\n",
      "following\n",
      "good film, make good, bro peopl, films anymor, nolan finch, people mak, anymore nolan, film th, filmmaker mak\n",
      "---\n",
      "insomnia-2002\n",
      "yogurt director, filmography tenet, guess expect, gruff dog, great worth, great sceneri, great punchlin, great perform, good way\n",
      "---\n"
     ]
    }
   ],
   "source": [
    "# Print the top 15 words said by positive reviews\n",
    "for film, top_words in top_dict_neg_freq_bigram.items():\n",
    "    print(film)\n",
    "    print(', '.join([word for word, count in top_words[0:9]]))\n",
    "    print('---')"
   ]
  }
 ],
 "metadata": {
  "kernelspec": {
   "display_name": "Python 3",
   "language": "python",
   "name": "python3"
  },
  "language_info": {
   "codemirror_mode": {
    "name": "ipython",
    "version": 3
   },
   "file_extension": ".py",
   "mimetype": "text/x-python",
   "name": "python",
   "nbconvert_exporter": "python",
   "pygments_lexer": "ipython3",
   "version": "3.8.5"
  }
 },
 "nbformat": 4,
 "nbformat_minor": 4
}
